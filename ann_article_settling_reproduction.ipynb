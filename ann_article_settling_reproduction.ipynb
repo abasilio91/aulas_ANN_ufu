{
  "nbformat": 4,
  "nbformat_minor": 0,
  "metadata": {
    "colab": {
      "name": "ann_article_settling_reproduction.ipynb",
      "provenance": [],
      "collapsed_sections": [],
      "authorship_tag": "ABX9TyOyJFn8CnLsMcX7qJIOr3qW",
      "include_colab_link": true
    },
    "kernelspec": {
      "name": "python3",
      "display_name": "Python 3"
    },
    "language_info": {
      "name": "python"
    }
  },
  "cells": [
    {
      "cell_type": "markdown",
      "metadata": {
        "id": "view-in-github",
        "colab_type": "text"
      },
      "source": [
        "<a href=\"https://colab.research.google.com/github/abasilio91/aulas_ANN_ufu/blob/main/ann_article_settling_reproduction.ipynb\" target=\"_parent\"><img src=\"https://colab.research.google.com/assets/colab-badge.svg\" alt=\"Open In Colab\"/></a>"
      ]
    },
    {
      "cell_type": "code",
      "metadata": {
        "id": "2GpFWqwtFomO"
      },
      "source": [
        "import pandas as pd\n",
        "import numpy as np\n",
        "import seaborn as sns\n",
        "from sklearn.model_selection import GridSearchCV, train_test_split\n",
        "from sklearn.linear_model import BayesianRidge\n",
        "from sklearn.metrics import mean_squared_error, r2_score, make_scorer\n",
        "from sklearn.neural_network import MLPRegressor\n",
        "from sklearn.preprocessing import QuantileTransformer\n",
        "import matplotlib.pyplot as plt\n",
        "from sklearn.pipeline import Pipeline"
      ],
      "execution_count": 242,
      "outputs": []
    },
    {
      "cell_type": "markdown",
      "metadata": {
        "id": "voA975JHGOd4"
      },
      "source": [
        "original article: https://www.sciencedirect.com/science/article/abs/pii/S0301751612000397"
      ]
    },
    {
      "cell_type": "code",
      "metadata": {
        "id": "A68jrhh8GBIk"
      },
      "source": [
        "def normalize(data):\n",
        "\n",
        "  data_n = []\n",
        "  for item in data:\n",
        "    value = 2*(item-min(data))/(max(data)-min(data))-1\n",
        "    data_n.append(value)\n",
        "  \n",
        "  return data_n\n",
        "\n",
        "def undo_norm(data, v_min, v_max):\n",
        "  \n",
        "  data_n = []\n",
        "\n",
        "  for item in data:\n",
        "    value = (item+1)/2 *(v_max - v_min) + v_min\n",
        "    data_n.append(value)\n",
        "\n",
        "  return data_n"
      ],
      "execution_count": 243,
      "outputs": []
    },
    {
      "cell_type": "code",
      "metadata": {
        "id": "NiGsL5ojHqql"
      },
      "source": [
        "url = 'https://raw.githubusercontent.com/abasilio91/aulas_ANN_ufu/main/projects/data_ann_article_settling.txt'\n",
        "originais = pd.read_csv(url,sep=' ')"
      ],
      "execution_count": 244,
      "outputs": []
    },
    {
      "cell_type": "code",
      "metadata": {
        "colab": {
          "base_uri": "https://localhost:8080/",
          "height": 296
        },
        "id": "2_g1lb08h5pZ",
        "outputId": "8bf31a09-0fe2-43d9-8857-5947796f40ae"
      },
      "source": [
        "sns.histplot(data=originais, x='V')\n",
        "plt.xlabel('V (m/s)')"
      ],
      "execution_count": 245,
      "outputs": [
        {
          "output_type": "execute_result",
          "data": {
            "text/plain": [
              "Text(0.5, 0, 'V (m/s)')"
            ]
          },
          "metadata": {
            "tags": []
          },
          "execution_count": 245
        },
        {
          "output_type": "display_data",
          "data": {
            "image/png": "[encoded data removed]",
            "text/plain": [
              "<Figure size 432x288 with 1 Axes>"
            ]
          },
          "metadata": {
            "tags": [],
            "needs_background": "light"
          }
        }
      ]
    },
    {
      "cell_type": "code",
      "metadata": {
        "colab": {
          "base_uri": "https://localhost:8080/",
          "height": 296
        },
        "id": "rbZ5E1x2isrV",
        "outputId": "8109a5cf-1ce7-4727-b151-422fae17fa3d"
      },
      "source": [
        "sns.boxplot(data=originais, x='V')\n",
        "plt.xlabel('V (m/s)')"
      ],
      "execution_count": 246,
      "outputs": [
        {
          "output_type": "execute_result",
          "data": {
            "text/plain": [
              "Text(0.5, 0, 'V (m/s)')"
            ]
          },
          "metadata": {
            "tags": []
          },
          "execution_count": 246
        },
        {
          "output_type": "display_data",
          "data": {
            "image/png": "[encoded data removed]",
            "text/plain": [
              "<Figure size 432x288 with 1 Axes>"
            ]
          },
          "metadata": {
            "tags": [],
            "needs_background": "light"
          }
        }
      ]
    },
    {
      "cell_type": "code",
      "metadata": {
        "id": "e6xnmfZZGDB-"
      },
      "source": [
        "dados = {}\n",
        "\n",
        "for col in originais.columns:\n",
        "    series = originais[col]\n",
        "    series_normalized = normalize(series)\n",
        "    dados[f'{col}'] = series_normalized\n",
        "    \n",
        "dados_norm = pd.DataFrame(dados).drop(['Re','Cd'],axis=1)"
      ],
      "execution_count": 247,
      "outputs": []
    },
    {
      "cell_type": "code",
      "metadata": {
        "colab": {
          "base_uri": "https://localhost:8080/",
          "height": 296
        },
        "id": "baK4CK-Si4zV",
        "outputId": "59dd5387-d019-42e5-a65c-f327fdf12aa0"
      },
      "source": [
        "sns.histplot(data=dados_norm, x='V')\n",
        "plt.xlabel('V (m/s)')"
      ],
      "execution_count": 248,
      "outputs": [
        {
          "output_type": "execute_result",
          "data": {
            "text/plain": [
              "Text(0.5, 0, 'V (m/s)')"
            ]
          },
          "metadata": {
            "tags": []
          },
          "execution_count": 248
        },
        {
          "output_type": "display_data",
          "data": {
            "image/png": "[encoded data removed]",
            "text/plain": [
              "<Figure size 432x288 with 1 Axes>"
            ]
          },
          "metadata": {
            "tags": [],
            "needs_background": "light"
          }
        }
      ]
    },
    {
      "cell_type": "code",
      "metadata": {
        "colab": {
          "base_uri": "https://localhost:8080/",
          "height": 296
        },
        "id": "HQcHueoQi46j",
        "outputId": "dffb47f7-d8dc-46cd-f9a5-531273f715a4"
      },
      "source": [
        "sns.boxplot(data=dados_norm, x='V')\n",
        "plt.xlabel('V (m/s)')"
      ],
      "execution_count": 249,
      "outputs": [
        {
          "output_type": "execute_result",
          "data": {
            "text/plain": [
              "Text(0.5, 0, 'V (m/s)')"
            ]
          },
          "metadata": {
            "tags": []
          },
          "execution_count": 249
        },
        {
          "output_type": "display_data",
          "data": {
            "image/png": "[encoded data removed]",
            "text/plain": [
              "<Figure size 432x288 with 1 Axes>"
            ]
          },
          "metadata": {
            "tags": [],
            "needs_background": "light"
          }
        }
      ]
    },
    {
      "cell_type": "code",
      "metadata": {
        "colab": {
          "base_uri": "https://localhost:8080/"
        },
        "id": "xGTMES_T7LHw",
        "outputId": "961659b6-95d8-44fc-e5ff-ece858a4e58a"
      },
      "source": [
        "scal = QuantileTransformer(n_quantiles=100, output_distribution='normal')\n",
        "dados_quantil = scal.fit(originais).transform(originais)\n",
        "# dados_quantil = QuantileTransformer(n_quantiles=100).fit(originais).transform(originais)\n",
        "dados_quantil = pd.DataFrame(dados_quantil, columns=originais.columns).drop(['Re','Cd'],axis=1)"
      ],
      "execution_count": 250,
      "outputs": [
        {
          "output_type": "stream",
          "text": [
            "/usr/local/lib/python3.7/dist-packages/sklearn/preprocessing/_data.py:2357: UserWarning: n_quantiles (100) is greater than the total number of samples (88). n_quantiles is set to n_samples.\n",
            "  % (self.n_quantiles, n_samples))\n"
          ],
          "name": "stderr"
        }
      ]
    },
    {
      "cell_type": "code",
      "metadata": {
        "colab": {
          "base_uri": "https://localhost:8080/",
          "height": 296
        },
        "id": "BaWBO8KS7Mag",
        "outputId": "29ab63c9-adb2-4a3d-930e-e4f88a7c827b"
      },
      "source": [
        "sns.histplot(x='V',data=dados_quantil)\n",
        "plt.xlabel('V (m/s)')"
      ],
      "execution_count": 251,
      "outputs": [
        {
          "output_type": "execute_result",
          "data": {
            "text/plain": [
              "Text(0.5, 0, 'V (m/s)')"
            ]
          },
          "metadata": {
            "tags": []
          },
          "execution_count": 251
        },
        {
          "output_type": "display_data",
          "data": {
            "image/png": "[encoded data removed]",
            "text/plain": [
              "<Figure size 432x288 with 1 Axes>"
            ]
          },
          "metadata": {
            "tags": [],
            "needs_background": "light"
          }
        }
      ]
    },
    {
      "cell_type": "code",
      "metadata": {
        "colab": {
          "base_uri": "https://localhost:8080/",
          "height": 296
        },
        "id": "DYam_WyP7MfI",
        "outputId": "79429353-4da4-4d5a-a7e8-ee7f3dd518fa"
      },
      "source": [
        "sns.boxplot(x='V',data=dados_quantil)\n",
        "plt.xlabel('V (m/s)')"
      ],
      "execution_count": 252,
      "outputs": [
        {
          "output_type": "execute_result",
          "data": {
            "text/plain": [
              "Text(0.5, 0, 'V (m/s)')"
            ]
          },
          "metadata": {
            "tags": []
          },
          "execution_count": 252
        },
        {
          "output_type": "display_data",
          "data": {
            "image/png": "[encoded data removed]",
            "text/plain": [
              "<Figure size 432x288 with 1 Axes>"
            ]
          },
          "metadata": {
            "tags": [],
            "needs_background": "light"
          }
        }
      ]
    },
    {
      "cell_type": "code",
      "metadata": {
        "id": "8R0F65LYJo7Q"
      },
      "source": [
        "X_norm = dados_norm.drop('V',axis=1)\n",
        "y_norm = dados_norm['V']\n",
        "\n",
        "x_train_norm, x_test_norm, y_train_norm, y_test_norm = train_test_split(X_norm,y_norm,train_size=69, shuffle=True)\n",
        "split_data = {'x_train':x_train_norm, 'y_train':y_train_norm, 'x_test':x_test_norm, 'y_test':y_test_norm}"
      ],
      "execution_count": 253,
      "outputs": []
    },
    {
      "cell_type": "code",
      "metadata": {
        "id": "38nnOUW-NO_b",
        "colab": {
          "base_uri": "https://localhost:8080/",
          "height": 638
        },
        "outputId": "f85b38a1-333d-46a1-ba19-31b450b66e97"
      },
      "source": [
        "test_data = pd.concat([x_test_norm,y_test_norm], axis=1)\n",
        "test_data"
      ],
      "execution_count": 254,
      "outputs": [
        {
          "output_type": "execute_result",
          "data": {
            "text/html": [
              "<div>\n",
              "<style scoped>\n",
              "    .dataframe tbody tr th:only-of-type {\n",
              "        vertical-align: middle;\n",
              "    }\n",
              "\n",
              "    .dataframe tbody tr th {\n",
              "        vertical-align: top;\n",
              "    }\n",
              "\n",
              "    .dataframe thead th {\n",
              "        text-align: right;\n",
              "    }\n",
              "</style>\n",
              "<table border=\"1\" class=\"dataframe\">\n",
              "  <thead>\n",
              "    <tr style=\"text-align: right;\">\n",
              "      <th></th>\n",
              "      <th>k</th>\n",
              "      <th>n</th>\n",
              "      <th>dp</th>\n",
              "      <th>ps</th>\n",
              "      <th>p</th>\n",
              "      <th>V</th>\n",
              "    </tr>\n",
              "  </thead>\n",
              "  <tbody>\n",
              "    <tr>\n",
              "      <th>87</th>\n",
              "      <td>-0.991497</td>\n",
              "      <td>0.808012</td>\n",
              "      <td>-0.589286</td>\n",
              "      <td>0.302122</td>\n",
              "      <td>-0.919652</td>\n",
              "      <td>-0.552888</td>\n",
              "    </tr>\n",
              "    <tr>\n",
              "      <th>27</th>\n",
              "      <td>-0.997071</td>\n",
              "      <td>0.401236</td>\n",
              "      <td>-0.250000</td>\n",
              "      <td>-0.741094</td>\n",
              "      <td>-0.936280</td>\n",
              "      <td>-0.299319</td>\n",
              "    </tr>\n",
              "    <tr>\n",
              "      <th>13</th>\n",
              "      <td>-0.998429</td>\n",
              "      <td>0.829107</td>\n",
              "      <td>-0.607143</td>\n",
              "      <td>-0.719875</td>\n",
              "      <td>-0.912216</td>\n",
              "      <td>-0.695328</td>\n",
              "    </tr>\n",
              "    <tr>\n",
              "      <th>51</th>\n",
              "      <td>-0.594436</td>\n",
              "      <td>-0.519923</td>\n",
              "      <td>0.642857</td>\n",
              "      <td>0.289858</td>\n",
              "      <td>-0.700369</td>\n",
              "      <td>-0.070733</td>\n",
              "    </tr>\n",
              "    <tr>\n",
              "      <th>16</th>\n",
              "      <td>-0.939904</td>\n",
              "      <td>0.064564</td>\n",
              "      <td>-0.250000</td>\n",
              "      <td>-0.741094</td>\n",
              "      <td>-0.912216</td>\n",
              "      <td>-0.868754</td>\n",
              "    </tr>\n",
              "    <tr>\n",
              "      <th>70</th>\n",
              "      <td>-0.986420</td>\n",
              "      <td>1.000000</td>\n",
              "      <td>-0.750000</td>\n",
              "      <td>-0.708390</td>\n",
              "      <td>1.000000</td>\n",
              "      <td>-0.974043</td>\n",
              "    </tr>\n",
              "    <tr>\n",
              "      <th>67</th>\n",
              "      <td>-1.000000</td>\n",
              "      <td>1.000000</td>\n",
              "      <td>-0.928571</td>\n",
              "      <td>-0.777302</td>\n",
              "      <td>-0.880910</td>\n",
              "      <td>-0.725665</td>\n",
              "    </tr>\n",
              "    <tr>\n",
              "      <th>43</th>\n",
              "      <td>1.000000</td>\n",
              "      <td>-0.998082</td>\n",
              "      <td>1.000000</td>\n",
              "      <td>0.277010</td>\n",
              "      <td>-0.912216</td>\n",
              "      <td>-0.330305</td>\n",
              "    </tr>\n",
              "    <tr>\n",
              "      <th>8</th>\n",
              "      <td>-0.996524</td>\n",
              "      <td>0.728106</td>\n",
              "      <td>-0.732143</td>\n",
              "      <td>-0.751022</td>\n",
              "      <td>-0.912216</td>\n",
              "      <td>-0.830143</td>\n",
              "    </tr>\n",
              "    <tr>\n",
              "      <th>17</th>\n",
              "      <td>-0.939904</td>\n",
              "      <td>0.064564</td>\n",
              "      <td>0.107143</td>\n",
              "      <td>-0.741094</td>\n",
              "      <td>-0.912216</td>\n",
              "      <td>-0.753082</td>\n",
              "    </tr>\n",
              "    <tr>\n",
              "      <th>15</th>\n",
              "      <td>-0.939904</td>\n",
              "      <td>0.064564</td>\n",
              "      <td>-0.607143</td>\n",
              "      <td>-0.741094</td>\n",
              "      <td>-0.912216</td>\n",
              "      <td>-0.960740</td>\n",
              "    </tr>\n",
              "    <tr>\n",
              "      <th>9</th>\n",
              "      <td>-0.998429</td>\n",
              "      <td>0.829107</td>\n",
              "      <td>-0.767857</td>\n",
              "      <td>-0.696905</td>\n",
              "      <td>-0.912216</td>\n",
              "      <td>-0.804835</td>\n",
              "    </tr>\n",
              "    <tr>\n",
              "      <th>81</th>\n",
              "      <td>-0.991335</td>\n",
              "      <td>0.703814</td>\n",
              "      <td>-0.678571</td>\n",
              "      <td>1.000000</td>\n",
              "      <td>-0.919524</td>\n",
              "      <td>-0.386275</td>\n",
              "    </tr>\n",
              "    <tr>\n",
              "      <th>20</th>\n",
              "      <td>-0.982974</td>\n",
              "      <td>0.200938</td>\n",
              "      <td>-0.250000</td>\n",
              "      <td>-0.741094</td>\n",
              "      <td>-0.920237</td>\n",
              "      <td>-0.602206</td>\n",
              "    </tr>\n",
              "    <tr>\n",
              "      <th>10</th>\n",
              "      <td>-0.996524</td>\n",
              "      <td>0.728106</td>\n",
              "      <td>-0.607143</td>\n",
              "      <td>-0.719875</td>\n",
              "      <td>-0.912216</td>\n",
              "      <td>-0.753407</td>\n",
              "    </tr>\n",
              "    <tr>\n",
              "      <th>69</th>\n",
              "      <td>-0.986420</td>\n",
              "      <td>1.000000</td>\n",
              "      <td>-0.571429</td>\n",
              "      <td>-0.739926</td>\n",
              "      <td>0.909473</td>\n",
              "      <td>-0.943543</td>\n",
              "    </tr>\n",
              "    <tr>\n",
              "      <th>82</th>\n",
              "      <td>-0.991335</td>\n",
              "      <td>0.703814</td>\n",
              "      <td>-0.589286</td>\n",
              "      <td>0.302122</td>\n",
              "      <td>-0.913612</td>\n",
              "      <td>-0.460253</td>\n",
              "    </tr>\n",
              "    <tr>\n",
              "      <th>6</th>\n",
              "      <td>-0.998429</td>\n",
              "      <td>0.829107</td>\n",
              "      <td>-0.875000</td>\n",
              "      <td>-0.787814</td>\n",
              "      <td>-0.912216</td>\n",
              "      <td>-0.914828</td>\n",
              "    </tr>\n",
              "    <tr>\n",
              "      <th>74</th>\n",
              "      <td>-0.988427</td>\n",
              "      <td>0.456424</td>\n",
              "      <td>-0.571429</td>\n",
              "      <td>-0.739926</td>\n",
              "      <td>-0.915497</td>\n",
              "      <td>-0.803699</td>\n",
              "    </tr>\n",
              "  </tbody>\n",
              "</table>\n",
              "</div>"
            ],
            "text/plain": [
              "           k         n        dp        ps         p         V\n",
              "87 -0.991497  0.808012 -0.589286  0.302122 -0.919652 -0.552888\n",
              "27 -0.997071  0.401236 -0.250000 -0.741094 -0.936280 -0.299319\n",
              "13 -0.998429  0.829107 -0.607143 -0.719875 -0.912216 -0.695328\n",
              "51 -0.594436 -0.519923  0.642857  0.289858 -0.700369 -0.070733\n",
              "16 -0.939904  0.064564 -0.250000 -0.741094 -0.912216 -0.868754\n",
              "70 -0.986420  1.000000 -0.750000 -0.708390  1.000000 -0.974043\n",
              "67 -1.000000  1.000000 -0.928571 -0.777302 -0.880910 -0.725665\n",
              "43  1.000000 -0.998082  1.000000  0.277010 -0.912216 -0.330305\n",
              "8  -0.996524  0.728106 -0.732143 -0.751022 -0.912216 -0.830143\n",
              "17 -0.939904  0.064564  0.107143 -0.741094 -0.912216 -0.753082\n",
              "15 -0.939904  0.064564 -0.607143 -0.741094 -0.912216 -0.960740\n",
              "9  -0.998429  0.829107 -0.767857 -0.696905 -0.912216 -0.804835\n",
              "81 -0.991335  0.703814 -0.678571  1.000000 -0.919524 -0.386275\n",
              "20 -0.982974  0.200938 -0.250000 -0.741094 -0.920237 -0.602206\n",
              "10 -0.996524  0.728106 -0.607143 -0.719875 -0.912216 -0.753407\n",
              "69 -0.986420  1.000000 -0.571429 -0.739926  0.909473 -0.943543\n",
              "82 -0.991335  0.703814 -0.589286  0.302122 -0.913612 -0.460253\n",
              "6  -0.998429  0.829107 -0.875000 -0.787814 -0.912216 -0.914828\n",
              "74 -0.988427  0.456424 -0.571429 -0.739926 -0.915497 -0.803699"
            ]
          },
          "metadata": {
            "tags": []
          },
          "execution_count": 254
        }
      ]
    },
    {
      "cell_type": "code",
      "metadata": {
        "id": "9MwAFEHsGHSU"
      },
      "source": [
        "model = BayesianRidge()\n",
        "model.fit(x_train_norm,y_train_norm)\n",
        "\n",
        "predict = model.predict(x_test)\n",
        "y_test = np.array(y_test.tolist())\n",
        "\n",
        "model_results_norm = {'V real':y_test, 'V predict_bayesian':predict}\n",
        "model_results_norm = pd.DataFrame(model_results)\n",
        "\n",
        "model2 = MLPRegressor(shuffle=True, solver='lbfgs', hidden_layer_sizes=12, activation='tanh', max_iter=5000).fit(x_train_norm, y_train_norm)\n",
        "predict = model2.predict(x_test_norm)\n",
        "\n",
        "model_results_norm['V predict_mlp'] = predict\n",
        "model_results_norm = pd.DataFrame(model_results)"
      ],
      "execution_count": 255,
      "outputs": []
    },
    {
      "cell_type": "code",
      "metadata": {
        "colab": {
          "base_uri": "https://localhost:8080/",
          "height": 766
        },
        "id": "g1gEa8zMRH4C",
        "outputId": "e1065dc5-1e21-4d4e-a172-9e0580b132fb"
      },
      "source": [
        "sns.lmplot(x='V real', y='V predict_bayesian', data=model_results_norm)\n",
        "plt.ylabel('V predito Bayesiano')\n",
        "sns.lmplot(x='V real', y='V predict_mlp', data=model_results_norm)\n",
        "plt.ylabel('V predito MLP')"
      ],
      "execution_count": 256,
      "outputs": [
        {
          "output_type": "execute_result",
          "data": {
            "text/plain": [
              "Text(-8.075000000000003, 0.5, 'V predito MLP')"
            ]
          },
          "metadata": {
            "tags": []
          },
          "execution_count": 256
        },
        {
          "output_type": "display_data",
          "data": {
            "image/png": "[encoded data removed]",
            "text/plain": [
              "<Figure size 360x360 with 1 Axes>"
            ]
          },
          "metadata": {
            "tags": [],
            "needs_background": "light"
          }
        },
        {
          "output_type": "display_data",
          "data": {
            "image/png": "[encoded data removed]",
            "text/plain": [
              "<Figure size 360x360 with 1 Axes>"
            ]
          },
          "metadata": {
            "tags": [],
            "needs_background": "light"
          }
        }
      ]
    },
    {
      "cell_type": "code",
      "metadata": {
        "colab": {
          "base_uri": "https://localhost:8080/",
          "height": 638
        },
        "id": "P2bEpq93Kwys",
        "outputId": "fe7fa53d-9029-4345-f7d9-c5b03d1f31b6"
      },
      "source": [
        "X_quantil = dados_quantil.drop('V',axis=1)\n",
        "y_quantil = dados_quantil['V']\n",
        "\n",
        "x_train_quantil, x_test_quantil, y_train_quantil, y_test_quantil = train_test_split(X_quantil,y_quantil,train_size=69, shuffle=True)\n",
        "split_data = {'x_train':x_train_quantil, 'y_train':y_train_quantil, 'x_test':x_test_quantil, 'y_test':y_test_quantil}\n",
        "\n",
        "test_data = pd.concat([x_test_quantil,y_test_quantil], axis=1)\n",
        "test_data"
      ],
      "execution_count": 257,
      "outputs": [
        {
          "output_type": "execute_result",
          "data": {
            "text/html": [
              "<div>\n",
              "<style scoped>\n",
              "    .dataframe tbody tr th:only-of-type {\n",
              "        vertical-align: middle;\n",
              "    }\n",
              "\n",
              "    .dataframe tbody tr th {\n",
              "        vertical-align: top;\n",
              "    }\n",
              "\n",
              "    .dataframe thead th {\n",
              "        text-align: right;\n",
              "    }\n",
              "</style>\n",
              "<table border=\"1\" class=\"dataframe\">\n",
              "  <thead>\n",
              "    <tr style=\"text-align: right;\">\n",
              "      <th></th>\n",
              "      <th>k</th>\n",
              "      <th>n</th>\n",
              "      <th>dp</th>\n",
              "      <th>ps</th>\n",
              "      <th>p</th>\n",
              "      <th>V</th>\n",
              "    </tr>\n",
              "  </thead>\n",
              "  <tbody>\n",
              "    <tr>\n",
              "      <th>25</th>\n",
              "      <td>-0.446588</td>\n",
              "      <td>-0.277223</td>\n",
              "      <td>0.292225</td>\n",
              "      <td>-0.561125</td>\n",
              "      <td>0.000000</td>\n",
              "      <td>0.494873</td>\n",
              "    </tr>\n",
              "    <tr>\n",
              "      <th>62</th>\n",
              "      <td>0.879168</td>\n",
              "      <td>-1.294762</td>\n",
              "      <td>1.116127</td>\n",
              "      <td>0.922396</td>\n",
              "      <td>0.879168</td>\n",
              "      <td>1.401986</td>\n",
              "    </tr>\n",
              "    <tr>\n",
              "      <th>84</th>\n",
              "      <td>-0.307293</td>\n",
              "      <td>0.900572</td>\n",
              "      <td>-0.858159</td>\n",
              "      <td>0.101013</td>\n",
              "      <td>-0.665474</td>\n",
              "      <td>-1.038901</td>\n",
              "    </tr>\n",
              "    <tr>\n",
              "      <th>36</th>\n",
              "      <td>-0.561125</td>\n",
              "      <td>-0.028816</td>\n",
              "      <td>-0.322431</td>\n",
              "      <td>-1.899709</td>\n",
              "      <td>0.000000</td>\n",
              "      <td>-0.817237</td>\n",
              "    </tr>\n",
              "    <tr>\n",
              "      <th>78</th>\n",
              "      <td>-0.159134</td>\n",
              "      <td>0.544341</td>\n",
              "      <td>-0.014406</td>\n",
              "      <td>-0.217798</td>\n",
              "      <td>-0.777639</td>\n",
              "      <td>-0.462562</td>\n",
              "    </tr>\n",
              "    <tr>\n",
              "      <th>42</th>\n",
              "      <td>5.199338</td>\n",
              "      <td>-1.576361</td>\n",
              "      <td>1.116127</td>\n",
              "      <td>0.922396</td>\n",
              "      <td>0.000000</td>\n",
              "      <td>0.527709</td>\n",
              "    </tr>\n",
              "    <tr>\n",
              "      <th>31</th>\n",
              "      <td>-1.230818</td>\n",
              "      <td>0.247401</td>\n",
              "      <td>0.701873</td>\n",
              "      <td>-0.561125</td>\n",
              "      <td>-1.401986</td>\n",
              "      <td>0.900572</td>\n",
              "    </tr>\n",
              "    <tr>\n",
              "      <th>18</th>\n",
              "      <td>0.217798</td>\n",
              "      <td>-0.368308</td>\n",
              "      <td>-0.322431</td>\n",
              "      <td>-0.561125</td>\n",
              "      <td>-1.089662</td>\n",
              "      <td>-0.368308</td>\n",
              "    </tr>\n",
              "    <tr>\n",
              "      <th>43</th>\n",
              "      <td>5.199338</td>\n",
              "      <td>-1.576361</td>\n",
              "      <td>5.199338</td>\n",
              "      <td>0.446588</td>\n",
              "      <td>0.000000</td>\n",
              "      <td>0.561125</td>\n",
              "    </tr>\n",
              "    <tr>\n",
              "      <th>48</th>\n",
              "      <td>0.629937</td>\n",
              "      <td>-0.612465</td>\n",
              "      <td>5.199338</td>\n",
              "      <td>0.446588</td>\n",
              "      <td>1.014499</td>\n",
              "      <td>0.399323</td>\n",
              "    </tr>\n",
              "    <tr>\n",
              "      <th>77</th>\n",
              "      <td>-0.043231</td>\n",
              "      <td>0.144561</td>\n",
              "      <td>-0.561125</td>\n",
              "      <td>5.199338</td>\n",
              "      <td>-1.262145</td>\n",
              "      <td>0.701873</td>\n",
              "    </tr>\n",
              "    <tr>\n",
              "      <th>71</th>\n",
              "      <td>0.101013</td>\n",
              "      <td>5.199338</td>\n",
              "      <td>-1.483540</td>\n",
              "      <td>-1.294762</td>\n",
              "      <td>1.995604</td>\n",
              "      <td>-5.199338</td>\n",
              "    </tr>\n",
              "    <tr>\n",
              "      <th>35</th>\n",
              "      <td>-0.561125</td>\n",
              "      <td>-0.028816</td>\n",
              "      <td>-1.899709</td>\n",
              "      <td>0.292225</td>\n",
              "      <td>0.000000</td>\n",
              "      <td>-0.739225</td>\n",
              "    </tr>\n",
              "    <tr>\n",
              "      <th>56</th>\n",
              "      <td>1.483540</td>\n",
              "      <td>-5.199338</td>\n",
              "      <td>0.701873</td>\n",
              "      <td>0.665474</td>\n",
              "      <td>1.171546</td>\n",
              "      <td>1.200655</td>\n",
              "    </tr>\n",
              "    <tr>\n",
              "      <th>86</th>\n",
              "      <td>-0.307293</td>\n",
              "      <td>0.900572</td>\n",
              "      <td>-0.561125</td>\n",
              "      <td>5.199338</td>\n",
              "      <td>-0.858159</td>\n",
              "      <td>0.277223</td>\n",
              "    </tr>\n",
              "    <tr>\n",
              "      <th>63</th>\n",
              "      <td>0.720423</td>\n",
              "      <td>-0.739225</td>\n",
              "      <td>5.199338</td>\n",
              "      <td>0.446588</td>\n",
              "      <td>0.000000</td>\n",
              "      <td>2.273626</td>\n",
              "    </tr>\n",
              "    <tr>\n",
              "      <th>33</th>\n",
              "      <td>-0.665474</td>\n",
              "      <td>-0.028816</td>\n",
              "      <td>-5.199338</td>\n",
              "      <td>-0.922396</td>\n",
              "      <td>0.000000</td>\n",
              "      <td>-1.262145</td>\n",
              "    </tr>\n",
              "    <tr>\n",
              "      <th>80</th>\n",
              "      <td>-0.159134</td>\n",
              "      <td>0.544341</td>\n",
              "      <td>-1.483540</td>\n",
              "      <td>-1.294762</td>\n",
              "      <td>-0.595179</td>\n",
              "      <td>-1.818646</td>\n",
              "    </tr>\n",
              "    <tr>\n",
              "      <th>11</th>\n",
              "      <td>-1.483540</td>\n",
              "      <td>1.171546</td>\n",
              "      <td>-0.720423</td>\n",
              "      <td>-1.038901</td>\n",
              "      <td>0.000000</td>\n",
              "      <td>-0.277223</td>\n",
              "    </tr>\n",
              "  </tbody>\n",
              "</table>\n",
              "</div>"
            ],
            "text/plain": [
              "           k         n        dp        ps         p         V\n",
              "25 -0.446588 -0.277223  0.292225 -0.561125  0.000000  0.494873\n",
              "62  0.879168 -1.294762  1.116127  0.922396  0.879168  1.401986\n",
              "84 -0.307293  0.900572 -0.858159  0.101013 -0.665474 -1.038901\n",
              "36 -0.561125 -0.028816 -0.322431 -1.899709  0.000000 -0.817237\n",
              "78 -0.159134  0.544341 -0.014406 -0.217798 -0.777639 -0.462562\n",
              "42  5.199338 -1.576361  1.116127  0.922396  0.000000  0.527709\n",
              "31 -1.230818  0.247401  0.701873 -0.561125 -1.401986  0.900572\n",
              "18  0.217798 -0.368308 -0.322431 -0.561125 -1.089662 -0.368308\n",
              "43  5.199338 -1.576361  5.199338  0.446588  0.000000  0.561125\n",
              "48  0.629937 -0.612465  5.199338  0.446588  1.014499  0.399323\n",
              "77 -0.043231  0.144561 -0.561125  5.199338 -1.262145  0.701873\n",
              "71  0.101013  5.199338 -1.483540 -1.294762  1.995604 -5.199338\n",
              "35 -0.561125 -0.028816 -1.899709  0.292225  0.000000 -0.739225\n",
              "56  1.483540 -5.199338  0.701873  0.665474  1.171546  1.200655\n",
              "86 -0.307293  0.900572 -0.561125  5.199338 -0.858159  0.277223\n",
              "63  0.720423 -0.739225  5.199338  0.446588  0.000000  2.273626\n",
              "33 -0.665474 -0.028816 -5.199338 -0.922396  0.000000 -1.262145\n",
              "80 -0.159134  0.544341 -1.483540 -1.294762 -0.595179 -1.818646\n",
              "11 -1.483540  1.171546 -0.720423 -1.038901  0.000000 -0.277223"
            ]
          },
          "metadata": {
            "tags": []
          },
          "execution_count": 257
        }
      ]
    },
    {
      "cell_type": "code",
      "metadata": {
        "id": "KC2eHslPK0rw"
      },
      "source": [
        "model = BayesianRidge()\n",
        "model.fit(x_train_quantil,y_train_quantil)\n",
        "\n",
        "predict = model.predict(x_test)\n",
        "y_test = np.array(y_test.tolist())\n",
        "\n",
        "model_results_quantil = {'V real':y_test, 'V predict_bayesian':predict}\n",
        "model_results_quantil = pd.DataFrame(model_results)\n",
        "\n",
        "model2 = MLPRegressor(shuffle=True, solver='lbfgs', hidden_layer_sizes=12, activation='tanh', max_iter=5000).fit(x_train_quantil, y_train_quantil)\n",
        "predict = model2.predict(x_test_quantil)\n",
        "\n",
        "model_results_quantil['V predict_mlp'] = predict\n",
        "model_result_quantil = pd.DataFrame(model_results)"
      ],
      "execution_count": 258,
      "outputs": []
    },
    {
      "cell_type": "code",
      "metadata": {
        "colab": {
          "base_uri": "https://localhost:8080/",
          "height": 766
        },
        "id": "FoXdODBSK3VY",
        "outputId": "407d7208-9b72-4f73-865c-e53d066ab77c"
      },
      "source": [
        "sns.lmplot(x='V real', y='V predict_bayesian', data=model_results_quantil)\n",
        "plt.ylabel('V predito Bayesiano')\n",
        "sns.lmplot(x='V real', y='V predict_mlp', data=model_results_quantil)\n",
        "plt.ylabel('V predito MLP')"
      ],
      "execution_count": 259,
      "outputs": [
        {
          "output_type": "execute_result",
          "data": {
            "text/plain": [
              "Text(7.924999999999997, 0.5, 'V predito MLP')"
            ]
          },
          "metadata": {
            "tags": []
          },
          "execution_count": 259
        },
        {
          "output_type": "display_data",
          "data": {
            "image/png": "[encoded data removed]",
            "text/plain": [
              "<Figure size 360x360 with 1 Axes>"
            ]
          },
          "metadata": {
            "tags": [],
            "needs_background": "light"
          }
        },
        {
          "output_type": "display_data",
          "data": {
            "image/png": "[encoded data removed]",
            "text/plain": [
              "<Figure size 360x360 with 1 Axes>"
            ]
          },
          "metadata": {
            "tags": [],
            "needs_background": "light"
          }
        }
      ]
    },
    {
      "cell_type": "code",
      "metadata": {
        "id": "lp7jbripzzVH"
      },
      "source": [
        "pipe = Pipeline([\n",
        "                 ('model', BayesianRidge())\n",
        "])\n",
        "\n",
        "# pipe.get_params()"
      ],
      "execution_count": 279,
      "outputs": []
    },
    {
      "cell_type": "code",
      "metadata": {
        "id": "R9mvsHXTju3a"
      },
      "source": [
        "model_bayes = GridSearchCV(\n",
        "    estimator = pipe,\n",
        "    param_grid = {\n",
        "        'model__n_iter': [100,500,1000],\n",
        "        'model__alpha_1': [1e-5,1e-6,1e-7],\n",
        "        'model__alpha_2': [1e-5,1e-6,1e-7],\n",
        "        'model__lambda_1': [1e-5,1e-6,1e-7],\n",
        "        'model__lambda_2': [1e-5,1e-6,1e-7]\n",
        "    },\n",
        "    cv = 10,\n",
        "    scoring = {\n",
        "        'R2': make_scorer(r2_score),\n",
        "        'RMSE': make_scorer(mean_squared_error),\n",
        "    },\n",
        "    refit = 'R2',\n",
        "    n_jobs = -1\n",
        ")\n",
        "\n",
        "model_bayes.fit(X_norm,y_norm)\n",
        "df_results_bayes_norm = pd.DataFrame(model_bayes.cv_results_)"
      ],
      "execution_count": 280,
      "outputs": []
    },
    {
      "cell_type": "code",
      "metadata": {
        "id": "3iCf5ErkzpvU"
      },
      "source": [
        "pipe = Pipeline([\n",
        "                 ('model', MLPRegressor(max_iter=5000))\n",
        "])\n",
        "\n",
        "# pipe.get_params()"
      ],
      "execution_count": 281,
      "outputs": []
    },
    {
      "cell_type": "code",
      "metadata": {
        "id": "OoEVq1XlyIXW"
      },
      "source": [
        "model_mlp = GridSearchCV(\n",
        "    estimator = pipe,\n",
        "    param_grid = {\n",
        "        'model__solver': ['adam','lbfgs'],\n",
        "        'model__activation': ['relu', 'identity', 'logistic', 'tanh'],\n",
        "        'model__hidden_layer_sizes': [10,11,12,13,14,15]\n",
        "    },\n",
        "    cv = 10,\n",
        "    scoring = {\n",
        "        'R2': make_scorer(r2_score),\n",
        "        'RMSE': make_scorer(mean_squared_error),\n",
        "    },\n",
        "    refit = 'R2',\n",
        "    n_jobs = -1\n",
        ")\n",
        "\n",
        "model_mlp.fit(X_norm,y_norm)\n",
        "df_results_mlp_norm = pd.DataFrame(model_mlp.cv_results_)"
      ],
      "execution_count": 282,
      "outputs": []
    },
    {
      "cell_type": "code",
      "metadata": {
        "id": "BZgiBvMZ8rGz",
        "colab": {
          "base_uri": "https://localhost:8080/",
          "height": 134
        },
        "outputId": "db707b10-8138-41a1-ff95-1bd5f7c26f7c"
      },
      "source": [
        "minvalue_rmse = df_results_mlp_norm['mean_test_RMSE'].min()\n",
        "df_results_mlp_norm.query('mean_test_RMSE == @minvalue_rmse')"
      ],
      "execution_count": 285,
      "outputs": [
        {
          "output_type": "execute_result",
          "data": {
            "text/html": [
              "<div>\n",
              "<style scoped>\n",
              "    .dataframe tbody tr th:only-of-type {\n",
              "        vertical-align: middle;\n",
              "    }\n",
              "\n",
              "    .dataframe tbody tr th {\n",
              "        vertical-align: top;\n",
              "    }\n",
              "\n",
              "    .dataframe thead th {\n",
              "        text-align: right;\n",
              "    }\n",
              "</style>\n",
              "<table border=\"1\" class=\"dataframe\">\n",
              "  <thead>\n",
              "    <tr style=\"text-align: right;\">\n",
              "      <th></th>\n",
              "      <th>mean_fit_time</th>\n",
              "      <th>std_fit_time</th>\n",
              "      <th>mean_score_time</th>\n",
              "      <th>std_score_time</th>\n",
              "      <th>param_model__activation</th>\n",
              "      <th>param_model__hidden_layer_sizes</th>\n",
              "      <th>param_model__solver</th>\n",
              "      <th>params</th>\n",
              "      <th>split0_test_R2</th>\n",
              "      <th>split1_test_R2</th>\n",
              "      <th>split2_test_R2</th>\n",
              "      <th>split3_test_R2</th>\n",
              "      <th>split4_test_R2</th>\n",
              "      <th>split5_test_R2</th>\n",
              "      <th>split6_test_R2</th>\n",
              "      <th>split7_test_R2</th>\n",
              "      <th>split8_test_R2</th>\n",
              "      <th>split9_test_R2</th>\n",
              "      <th>mean_test_R2</th>\n",
              "      <th>std_test_R2</th>\n",
              "      <th>rank_test_R2</th>\n",
              "      <th>split0_test_RMSE</th>\n",
              "      <th>split1_test_RMSE</th>\n",
              "      <th>split2_test_RMSE</th>\n",
              "      <th>split3_test_RMSE</th>\n",
              "      <th>split4_test_RMSE</th>\n",
              "      <th>split5_test_RMSE</th>\n",
              "      <th>split6_test_RMSE</th>\n",
              "      <th>split7_test_RMSE</th>\n",
              "      <th>split8_test_RMSE</th>\n",
              "      <th>split9_test_RMSE</th>\n",
              "      <th>mean_test_RMSE</th>\n",
              "      <th>std_test_RMSE</th>\n",
              "      <th>rank_test_RMSE</th>\n",
              "    </tr>\n",
              "  </thead>\n",
              "  <tbody>\n",
              "    <tr>\n",
              "      <th>14</th>\n",
              "      <td>0.180668</td>\n",
              "      <td>0.097031</td>\n",
              "      <td>0.003747</td>\n",
              "      <td>0.003046</td>\n",
              "      <td>identity</td>\n",
              "      <td>11</td>\n",
              "      <td>adam</td>\n",
              "      <td>{'model__activation': 'identity', 'model__hidd...</td>\n",
              "      <td>-5.056539</td>\n",
              "      <td>-3.593746</td>\n",
              "      <td>-0.391042</td>\n",
              "      <td>0.055663</td>\n",
              "      <td>-1.831248</td>\n",
              "      <td>-2.816327</td>\n",
              "      <td>-2.247342</td>\n",
              "      <td>0.575637</td>\n",
              "      <td>0.815171</td>\n",
              "      <td>0.934596</td>\n",
              "      <td>-1.355518</td>\n",
              "      <td>1.961386</td>\n",
              "      <td>1</td>\n",
              "      <td>0.014696</td>\n",
              "      <td>0.035399</td>\n",
              "      <td>0.025733</td>\n",
              "      <td>0.129866</td>\n",
              "      <td>0.136833</td>\n",
              "      <td>0.208699</td>\n",
              "      <td>0.288206</td>\n",
              "      <td>0.274999</td>\n",
              "      <td>0.007873</td>\n",
              "      <td>0.003833</td>\n",
              "      <td>0.112614</td>\n",
              "      <td>0.106405</td>\n",
              "      <td>48</td>\n",
              "    </tr>\n",
              "  </tbody>\n",
              "</table>\n",
              "</div>"
            ],
            "text/plain": [
              "    mean_fit_time  std_fit_time  ...  std_test_RMSE  rank_test_RMSE\n",
              "14       0.180668      0.097031  ...       0.106405              48\n",
              "\n",
              "[1 rows x 34 columns]"
            ]
          },
          "metadata": {
            "tags": []
          },
          "execution_count": 285
        }
      ]
    },
    {
      "cell_type": "markdown",
      "metadata": {
        "id": "h4bNd7569Uv4"
      },
      "source": [
        "Os menores valores para RMSE estão ocorrando para os melhores valores de R2 quando (refit = 'RMSE')"
      ]
    },
    {
      "cell_type": "code",
      "metadata": {
        "id": "itCd-A7S95Qx",
        "colab": {
          "base_uri": "https://localhost:8080/",
          "height": 134
        },
        "outputId": "66ab6526-518b-4c2c-9c95-327fa975eff2"
      },
      "source": [
        "maxvalue_r2 = df_results_mlp_norm['mean_test_R2'].max()\n",
        "df_results_mlp_norm.query('mean_test_R2 == @maxvalue_r2')"
      ],
      "execution_count": 286,
      "outputs": [
        {
          "output_type": "execute_result",
          "data": {
            "text/html": [
              "<div>\n",
              "<style scoped>\n",
              "    .dataframe tbody tr th:only-of-type {\n",
              "        vertical-align: middle;\n",
              "    }\n",
              "\n",
              "    .dataframe tbody tr th {\n",
              "        vertical-align: top;\n",
              "    }\n",
              "\n",
              "    .dataframe thead th {\n",
              "        text-align: right;\n",
              "    }\n",
              "</style>\n",
              "<table border=\"1\" class=\"dataframe\">\n",
              "  <thead>\n",
              "    <tr style=\"text-align: right;\">\n",
              "      <th></th>\n",
              "      <th>mean_fit_time</th>\n",
              "      <th>std_fit_time</th>\n",
              "      <th>mean_score_time</th>\n",
              "      <th>std_score_time</th>\n",
              "      <th>param_model__activation</th>\n",
              "      <th>param_model__hidden_layer_sizes</th>\n",
              "      <th>param_model__solver</th>\n",
              "      <th>params</th>\n",
              "      <th>split0_test_R2</th>\n",
              "      <th>split1_test_R2</th>\n",
              "      <th>split2_test_R2</th>\n",
              "      <th>split3_test_R2</th>\n",
              "      <th>split4_test_R2</th>\n",
              "      <th>split5_test_R2</th>\n",
              "      <th>split6_test_R2</th>\n",
              "      <th>split7_test_R2</th>\n",
              "      <th>split8_test_R2</th>\n",
              "      <th>split9_test_R2</th>\n",
              "      <th>mean_test_R2</th>\n",
              "      <th>std_test_R2</th>\n",
              "      <th>rank_test_R2</th>\n",
              "      <th>split0_test_RMSE</th>\n",
              "      <th>split1_test_RMSE</th>\n",
              "      <th>split2_test_RMSE</th>\n",
              "      <th>split3_test_RMSE</th>\n",
              "      <th>split4_test_RMSE</th>\n",
              "      <th>split5_test_RMSE</th>\n",
              "      <th>split6_test_RMSE</th>\n",
              "      <th>split7_test_RMSE</th>\n",
              "      <th>split8_test_RMSE</th>\n",
              "      <th>split9_test_RMSE</th>\n",
              "      <th>mean_test_RMSE</th>\n",
              "      <th>std_test_RMSE</th>\n",
              "      <th>rank_test_RMSE</th>\n",
              "    </tr>\n",
              "  </thead>\n",
              "  <tbody>\n",
              "    <tr>\n",
              "      <th>14</th>\n",
              "      <td>0.180668</td>\n",
              "      <td>0.097031</td>\n",
              "      <td>0.003747</td>\n",
              "      <td>0.003046</td>\n",
              "      <td>identity</td>\n",
              "      <td>11</td>\n",
              "      <td>adam</td>\n",
              "      <td>{'model__activation': 'identity', 'model__hidd...</td>\n",
              "      <td>-5.056539</td>\n",
              "      <td>-3.593746</td>\n",
              "      <td>-0.391042</td>\n",
              "      <td>0.055663</td>\n",
              "      <td>-1.831248</td>\n",
              "      <td>-2.816327</td>\n",
              "      <td>-2.247342</td>\n",
              "      <td>0.575637</td>\n",
              "      <td>0.815171</td>\n",
              "      <td>0.934596</td>\n",
              "      <td>-1.355518</td>\n",
              "      <td>1.961386</td>\n",
              "      <td>1</td>\n",
              "      <td>0.014696</td>\n",
              "      <td>0.035399</td>\n",
              "      <td>0.025733</td>\n",
              "      <td>0.129866</td>\n",
              "      <td>0.136833</td>\n",
              "      <td>0.208699</td>\n",
              "      <td>0.288206</td>\n",
              "      <td>0.274999</td>\n",
              "      <td>0.007873</td>\n",
              "      <td>0.003833</td>\n",
              "      <td>0.112614</td>\n",
              "      <td>0.106405</td>\n",
              "      <td>48</td>\n",
              "    </tr>\n",
              "  </tbody>\n",
              "</table>\n",
              "</div>"
            ],
            "text/plain": [
              "    mean_fit_time  std_fit_time  ...  std_test_RMSE  rank_test_RMSE\n",
              "14       0.180668      0.097031  ...       0.106405              48\n",
              "\n",
              "[1 rows x 34 columns]"
            ]
          },
          "metadata": {
            "tags": []
          },
          "execution_count": 286
        }
      ]
    },
    {
      "cell_type": "code",
      "metadata": {
        "id": "43HIDtXW9HAL",
        "colab": {
          "base_uri": "https://localhost:8080/",
          "height": 315
        },
        "outputId": "93abb3d8-cf89-4952-fc6e-39e0d34a71bf"
      },
      "source": [
        "minvalue_rmse = df_results_bayes_norm['mean_test_RMSE'].min()\n",
        "df_results_bayes_norm.query('mean_test_RMSE == @minvalue_rmse')"
      ],
      "execution_count": 287,
      "outputs": [
        {
          "output_type": "execute_result",
          "data": {
            "text/html": [
              "<div>\n",
              "<style scoped>\n",
              "    .dataframe tbody tr th:only-of-type {\n",
              "        vertical-align: middle;\n",
              "    }\n",
              "\n",
              "    .dataframe tbody tr th {\n",
              "        vertical-align: top;\n",
              "    }\n",
              "\n",
              "    .dataframe thead th {\n",
              "        text-align: right;\n",
              "    }\n",
              "</style>\n",
              "<table border=\"1\" class=\"dataframe\">\n",
              "  <thead>\n",
              "    <tr style=\"text-align: right;\">\n",
              "      <th></th>\n",
              "      <th>mean_fit_time</th>\n",
              "      <th>std_fit_time</th>\n",
              "      <th>mean_score_time</th>\n",
              "      <th>std_score_time</th>\n",
              "      <th>param_model__alpha_1</th>\n",
              "      <th>param_model__alpha_2</th>\n",
              "      <th>param_model__lambda_1</th>\n",
              "      <th>param_model__lambda_2</th>\n",
              "      <th>param_model__n_iter</th>\n",
              "      <th>params</th>\n",
              "      <th>split0_test_R2</th>\n",
              "      <th>split1_test_R2</th>\n",
              "      <th>split2_test_R2</th>\n",
              "      <th>split3_test_R2</th>\n",
              "      <th>split4_test_R2</th>\n",
              "      <th>split5_test_R2</th>\n",
              "      <th>split6_test_R2</th>\n",
              "      <th>split7_test_R2</th>\n",
              "      <th>split8_test_R2</th>\n",
              "      <th>split9_test_R2</th>\n",
              "      <th>mean_test_R2</th>\n",
              "      <th>std_test_R2</th>\n",
              "      <th>rank_test_R2</th>\n",
              "      <th>split0_test_RMSE</th>\n",
              "      <th>split1_test_RMSE</th>\n",
              "      <th>split2_test_RMSE</th>\n",
              "      <th>split3_test_RMSE</th>\n",
              "      <th>split4_test_RMSE</th>\n",
              "      <th>split5_test_RMSE</th>\n",
              "      <th>split6_test_RMSE</th>\n",
              "      <th>split7_test_RMSE</th>\n",
              "      <th>split8_test_RMSE</th>\n",
              "      <th>split9_test_RMSE</th>\n",
              "      <th>mean_test_RMSE</th>\n",
              "      <th>std_test_RMSE</th>\n",
              "      <th>rank_test_RMSE</th>\n",
              "    </tr>\n",
              "  </thead>\n",
              "  <tbody>\n",
              "    <tr>\n",
              "      <th>168</th>\n",
              "      <td>0.002936</td>\n",
              "      <td>0.000085</td>\n",
              "      <td>0.001968</td>\n",
              "      <td>0.000173</td>\n",
              "      <td>1e-07</td>\n",
              "      <td>1e-05</td>\n",
              "      <td>1e-05</td>\n",
              "      <td>1e-07</td>\n",
              "      <td>100</td>\n",
              "      <td>{'model__alpha_1': 1e-07, 'model__alpha_2': 1e...</td>\n",
              "      <td>-3.923122</td>\n",
              "      <td>-5.788248</td>\n",
              "      <td>-0.335461</td>\n",
              "      <td>0.70478</td>\n",
              "      <td>-4.627804</td>\n",
              "      <td>-2.872552</td>\n",
              "      <td>-3.265527</td>\n",
              "      <td>0.578737</td>\n",
              "      <td>-0.433284</td>\n",
              "      <td>-0.271662</td>\n",
              "      <td>-2.023415</td>\n",
              "      <td>2.224638</td>\n",
              "      <td>16</td>\n",
              "      <td>0.011946</td>\n",
              "      <td>0.05231</td>\n",
              "      <td>0.024705</td>\n",
              "      <td>0.040599</td>\n",
              "      <td>0.271989</td>\n",
              "      <td>0.211773</td>\n",
              "      <td>0.378571</td>\n",
              "      <td>0.27299</td>\n",
              "      <td>0.061053</td>\n",
              "      <td>0.07453</td>\n",
              "      <td>0.140047</td>\n",
              "      <td>0.124481</td>\n",
              "      <td>241</td>\n",
              "    </tr>\n",
              "    <tr>\n",
              "      <th>169</th>\n",
              "      <td>0.005453</td>\n",
              "      <td>0.002916</td>\n",
              "      <td>0.002881</td>\n",
              "      <td>0.002217</td>\n",
              "      <td>1e-07</td>\n",
              "      <td>1e-05</td>\n",
              "      <td>1e-05</td>\n",
              "      <td>1e-07</td>\n",
              "      <td>500</td>\n",
              "      <td>{'model__alpha_1': 1e-07, 'model__alpha_2': 1e...</td>\n",
              "      <td>-3.923122</td>\n",
              "      <td>-5.788248</td>\n",
              "      <td>-0.335461</td>\n",
              "      <td>0.70478</td>\n",
              "      <td>-4.627804</td>\n",
              "      <td>-2.872552</td>\n",
              "      <td>-3.265527</td>\n",
              "      <td>0.578737</td>\n",
              "      <td>-0.433284</td>\n",
              "      <td>-0.271662</td>\n",
              "      <td>-2.023415</td>\n",
              "      <td>2.224638</td>\n",
              "      <td>16</td>\n",
              "      <td>0.011946</td>\n",
              "      <td>0.05231</td>\n",
              "      <td>0.024705</td>\n",
              "      <td>0.040599</td>\n",
              "      <td>0.271989</td>\n",
              "      <td>0.211773</td>\n",
              "      <td>0.378571</td>\n",
              "      <td>0.27299</td>\n",
              "      <td>0.061053</td>\n",
              "      <td>0.07453</td>\n",
              "      <td>0.140047</td>\n",
              "      <td>0.124481</td>\n",
              "      <td>241</td>\n",
              "    </tr>\n",
              "    <tr>\n",
              "      <th>170</th>\n",
              "      <td>0.003723</td>\n",
              "      <td>0.002208</td>\n",
              "      <td>0.002597</td>\n",
              "      <td>0.001811</td>\n",
              "      <td>1e-07</td>\n",
              "      <td>1e-05</td>\n",
              "      <td>1e-05</td>\n",
              "      <td>1e-07</td>\n",
              "      <td>1000</td>\n",
              "      <td>{'model__alpha_1': 1e-07, 'model__alpha_2': 1e...</td>\n",
              "      <td>-3.923122</td>\n",
              "      <td>-5.788248</td>\n",
              "      <td>-0.335461</td>\n",
              "      <td>0.70478</td>\n",
              "      <td>-4.627804</td>\n",
              "      <td>-2.872552</td>\n",
              "      <td>-3.265527</td>\n",
              "      <td>0.578737</td>\n",
              "      <td>-0.433284</td>\n",
              "      <td>-0.271662</td>\n",
              "      <td>-2.023415</td>\n",
              "      <td>2.224638</td>\n",
              "      <td>16</td>\n",
              "      <td>0.011946</td>\n",
              "      <td>0.05231</td>\n",
              "      <td>0.024705</td>\n",
              "      <td>0.040599</td>\n",
              "      <td>0.271989</td>\n",
              "      <td>0.211773</td>\n",
              "      <td>0.378571</td>\n",
              "      <td>0.27299</td>\n",
              "      <td>0.061053</td>\n",
              "      <td>0.07453</td>\n",
              "      <td>0.140047</td>\n",
              "      <td>0.124481</td>\n",
              "      <td>241</td>\n",
              "    </tr>\n",
              "  </tbody>\n",
              "</table>\n",
              "</div>"
            ],
            "text/plain": [
              "     mean_fit_time  std_fit_time  ...  std_test_RMSE  rank_test_RMSE\n",
              "168       0.002936      0.000085  ...       0.124481             241\n",
              "169       0.005453      0.002916  ...       0.124481             241\n",
              "170       0.003723      0.002208  ...       0.124481             241\n",
              "\n",
              "[3 rows x 36 columns]"
            ]
          },
          "metadata": {
            "tags": []
          },
          "execution_count": 287
        }
      ]
    },
    {
      "cell_type": "code",
      "metadata": {
        "id": "MoLm5eAN-FC_",
        "colab": {
          "base_uri": "https://localhost:8080/",
          "height": 315
        },
        "outputId": "a81ccf1f-2911-4a3e-e5bd-75c0fb1ec773"
      },
      "source": [
        "maxvalue_r2 = df_results_bayes_norm['mean_test_R2'].max()\n",
        "df_results_bayes_norm.query('mean_test_R2 == @maxvalue_r2')"
      ],
      "execution_count": 289,
      "outputs": [
        {
          "output_type": "execute_result",
          "data": {
            "text/html": [
              "<div>\n",
              "<style scoped>\n",
              "    .dataframe tbody tr th:only-of-type {\n",
              "        vertical-align: middle;\n",
              "    }\n",
              "\n",
              "    .dataframe tbody tr th {\n",
              "        vertical-align: top;\n",
              "    }\n",
              "\n",
              "    .dataframe thead th {\n",
              "        text-align: right;\n",
              "    }\n",
              "</style>\n",
              "<table border=\"1\" class=\"dataframe\">\n",
              "  <thead>\n",
              "    <tr style=\"text-align: right;\">\n",
              "      <th></th>\n",
              "      <th>mean_fit_time</th>\n",
              "      <th>std_fit_time</th>\n",
              "      <th>mean_score_time</th>\n",
              "      <th>std_score_time</th>\n",
              "      <th>param_model__alpha_1</th>\n",
              "      <th>param_model__alpha_2</th>\n",
              "      <th>param_model__lambda_1</th>\n",
              "      <th>param_model__lambda_2</th>\n",
              "      <th>param_model__n_iter</th>\n",
              "      <th>params</th>\n",
              "      <th>split0_test_R2</th>\n",
              "      <th>split1_test_R2</th>\n",
              "      <th>split2_test_R2</th>\n",
              "      <th>split3_test_R2</th>\n",
              "      <th>split4_test_R2</th>\n",
              "      <th>split5_test_R2</th>\n",
              "      <th>split6_test_R2</th>\n",
              "      <th>split7_test_R2</th>\n",
              "      <th>split8_test_R2</th>\n",
              "      <th>split9_test_R2</th>\n",
              "      <th>mean_test_R2</th>\n",
              "      <th>std_test_R2</th>\n",
              "      <th>rank_test_R2</th>\n",
              "      <th>split0_test_RMSE</th>\n",
              "      <th>split1_test_RMSE</th>\n",
              "      <th>split2_test_RMSE</th>\n",
              "      <th>split3_test_RMSE</th>\n",
              "      <th>split4_test_RMSE</th>\n",
              "      <th>split5_test_RMSE</th>\n",
              "      <th>split6_test_RMSE</th>\n",
              "      <th>split7_test_RMSE</th>\n",
              "      <th>split8_test_RMSE</th>\n",
              "      <th>split9_test_RMSE</th>\n",
              "      <th>mean_test_RMSE</th>\n",
              "      <th>std_test_RMSE</th>\n",
              "      <th>rank_test_RMSE</th>\n",
              "    </tr>\n",
              "  </thead>\n",
              "  <tbody>\n",
              "    <tr>\n",
              "      <th>162</th>\n",
              "      <td>0.003204</td>\n",
              "      <td>0.000300</td>\n",
              "      <td>0.001934</td>\n",
              "      <td>0.000118</td>\n",
              "      <td>1e-07</td>\n",
              "      <td>1e-05</td>\n",
              "      <td>1e-05</td>\n",
              "      <td>1e-05</td>\n",
              "      <td>100</td>\n",
              "      <td>{'model__alpha_1': 1e-07, 'model__alpha_2': 1e...</td>\n",
              "      <td>-3.923103</td>\n",
              "      <td>-5.788259</td>\n",
              "      <td>-0.335465</td>\n",
              "      <td>0.704781</td>\n",
              "      <td>-4.627791</td>\n",
              "      <td>-2.872558</td>\n",
              "      <td>-3.265528</td>\n",
              "      <td>0.578737</td>\n",
              "      <td>-0.433289</td>\n",
              "      <td>-0.271669</td>\n",
              "      <td>-2.023415</td>\n",
              "      <td>2.224636</td>\n",
              "      <td>1</td>\n",
              "      <td>0.011946</td>\n",
              "      <td>0.05231</td>\n",
              "      <td>0.024705</td>\n",
              "      <td>0.040599</td>\n",
              "      <td>0.271989</td>\n",
              "      <td>0.211774</td>\n",
              "      <td>0.378571</td>\n",
              "      <td>0.27299</td>\n",
              "      <td>0.061054</td>\n",
              "      <td>0.07453</td>\n",
              "      <td>0.140047</td>\n",
              "      <td>0.124481</td>\n",
              "      <td>154</td>\n",
              "    </tr>\n",
              "    <tr>\n",
              "      <th>163</th>\n",
              "      <td>0.007427</td>\n",
              "      <td>0.004368</td>\n",
              "      <td>0.002119</td>\n",
              "      <td>0.000161</td>\n",
              "      <td>1e-07</td>\n",
              "      <td>1e-05</td>\n",
              "      <td>1e-05</td>\n",
              "      <td>1e-05</td>\n",
              "      <td>500</td>\n",
              "      <td>{'model__alpha_1': 1e-07, 'model__alpha_2': 1e...</td>\n",
              "      <td>-3.923103</td>\n",
              "      <td>-5.788259</td>\n",
              "      <td>-0.335465</td>\n",
              "      <td>0.704781</td>\n",
              "      <td>-4.627791</td>\n",
              "      <td>-2.872558</td>\n",
              "      <td>-3.265528</td>\n",
              "      <td>0.578737</td>\n",
              "      <td>-0.433289</td>\n",
              "      <td>-0.271669</td>\n",
              "      <td>-2.023415</td>\n",
              "      <td>2.224636</td>\n",
              "      <td>1</td>\n",
              "      <td>0.011946</td>\n",
              "      <td>0.05231</td>\n",
              "      <td>0.024705</td>\n",
              "      <td>0.040599</td>\n",
              "      <td>0.271989</td>\n",
              "      <td>0.211774</td>\n",
              "      <td>0.378571</td>\n",
              "      <td>0.27299</td>\n",
              "      <td>0.061054</td>\n",
              "      <td>0.07453</td>\n",
              "      <td>0.140047</td>\n",
              "      <td>0.124481</td>\n",
              "      <td>154</td>\n",
              "    </tr>\n",
              "    <tr>\n",
              "      <th>164</th>\n",
              "      <td>0.003703</td>\n",
              "      <td>0.001566</td>\n",
              "      <td>0.002038</td>\n",
              "      <td>0.000125</td>\n",
              "      <td>1e-07</td>\n",
              "      <td>1e-05</td>\n",
              "      <td>1e-05</td>\n",
              "      <td>1e-05</td>\n",
              "      <td>1000</td>\n",
              "      <td>{'model__alpha_1': 1e-07, 'model__alpha_2': 1e...</td>\n",
              "      <td>-3.923103</td>\n",
              "      <td>-5.788259</td>\n",
              "      <td>-0.335465</td>\n",
              "      <td>0.704781</td>\n",
              "      <td>-4.627791</td>\n",
              "      <td>-2.872558</td>\n",
              "      <td>-3.265528</td>\n",
              "      <td>0.578737</td>\n",
              "      <td>-0.433289</td>\n",
              "      <td>-0.271669</td>\n",
              "      <td>-2.023415</td>\n",
              "      <td>2.224636</td>\n",
              "      <td>1</td>\n",
              "      <td>0.011946</td>\n",
              "      <td>0.05231</td>\n",
              "      <td>0.024705</td>\n",
              "      <td>0.040599</td>\n",
              "      <td>0.271989</td>\n",
              "      <td>0.211774</td>\n",
              "      <td>0.378571</td>\n",
              "      <td>0.27299</td>\n",
              "      <td>0.061054</td>\n",
              "      <td>0.07453</td>\n",
              "      <td>0.140047</td>\n",
              "      <td>0.124481</td>\n",
              "      <td>154</td>\n",
              "    </tr>\n",
              "  </tbody>\n",
              "</table>\n",
              "</div>"
            ],
            "text/plain": [
              "     mean_fit_time  std_fit_time  ...  std_test_RMSE  rank_test_RMSE\n",
              "162       0.003204      0.000300  ...       0.124481             154\n",
              "163       0.007427      0.004368  ...       0.124481             154\n",
              "164       0.003703      0.001566  ...       0.124481             154\n",
              "\n",
              "[3 rows x 36 columns]"
            ]
          },
          "metadata": {
            "tags": []
          },
          "execution_count": 289
        }
      ]
    },
    {
      "cell_type": "code",
      "metadata": {
        "id": "ucgPWjk6uR1U"
      },
      "source": [
        "pipe = Pipeline([\n",
        "                 ('model', MLPRegressor(max_iter=5000))\n",
        "])\n",
        "\n",
        "model_mlp = GridSearchCV(\n",
        "    estimator = pipe,\n",
        "    param_grid = {\n",
        "        'model__solver': ['adam','lbfgs'],\n",
        "        'model__activation': ['relu', 'identity', 'logistic', 'tanh'],\n",
        "        'model__hidden_layer_sizes': [10,11,12,13,14,15]\n",
        "    },\n",
        "    cv = 10,\n",
        "    scoring = {\n",
        "        'R2': make_scorer(r2_score),\n",
        "        'RMSE': make_scorer(mean_squared_error),\n",
        "    },\n",
        "    refit = 'R2',\n",
        "    n_jobs = -1\n",
        ")\n",
        "\n",
        "model_mlp.fit(X_quantil,y_quantil)\n",
        "df_results_mlp_quantil = pd.DataFrame(model_mlp.cv_results_)"
      ],
      "execution_count": 290,
      "outputs": []
    },
    {
      "cell_type": "code",
      "metadata": {
        "id": "9qMbSQokkVf9"
      },
      "source": [
        "pipe = Pipeline([\n",
        "                 ('model', BayesianRidge())\n",
        "])\n",
        "\n",
        "model_bayes = GridSearchCV(\n",
        "    estimator = pipe,\n",
        "    param_grid = {\n",
        "        'model__n_iter': [100,500,1000],\n",
        "        'model__alpha_1': [1e-5,1e-6,1e-7],\n",
        "        'model__alpha_2': [1e-5,1e-6,1e-7],\n",
        "        'model__lambda_1': [1e-5,1e-6,1e-7],\n",
        "        'model__lambda_2': [1e-5,1e-6,1e-7]\n",
        "    },\n",
        "    cv = 10,\n",
        "    scoring = {\n",
        "        'R2': make_scorer(r2_score),\n",
        "        'RMSE': make_scorer(mean_squared_error),\n",
        "    },\n",
        "    refit = 'R2',\n",
        "    n_jobs = -1\n",
        ")\n",
        "\n",
        "model_bayes.fit(X_norm,y_norm)\n",
        "df_results_bayes_quantil = pd.DataFrame(model_bayes.cv_results_)"
      ],
      "execution_count": 291,
      "outputs": []
    },
    {
      "cell_type": "code",
      "metadata": {
        "id": "pEmIsLJZvQW9",
        "colab": {
          "base_uri": "https://localhost:8080/",
          "height": 134
        },
        "outputId": "af83acb3-d165-41e2-c2d1-5324401886fd"
      },
      "source": [
        "minvalue_rmse = df_results_mlp_quantil['mean_test_RMSE'].min()\n",
        "df_results_mlp_quantil.query('mean_test_RMSE == @minvalue_rmse')"
      ],
      "execution_count": 293,
      "outputs": [
        {
          "output_type": "execute_result",
          "data": {
            "text/html": [
              "<div>\n",
              "<style scoped>\n",
              "    .dataframe tbody tr th:only-of-type {\n",
              "        vertical-align: middle;\n",
              "    }\n",
              "\n",
              "    .dataframe tbody tr th {\n",
              "        vertical-align: top;\n",
              "    }\n",
              "\n",
              "    .dataframe thead th {\n",
              "        text-align: right;\n",
              "    }\n",
              "</style>\n",
              "<table border=\"1\" class=\"dataframe\">\n",
              "  <thead>\n",
              "    <tr style=\"text-align: right;\">\n",
              "      <th></th>\n",
              "      <th>mean_fit_time</th>\n",
              "      <th>std_fit_time</th>\n",
              "      <th>mean_score_time</th>\n",
              "      <th>std_score_time</th>\n",
              "      <th>param_model__activation</th>\n",
              "      <th>param_model__hidden_layer_sizes</th>\n",
              "      <th>param_model__solver</th>\n",
              "      <th>params</th>\n",
              "      <th>split0_test_R2</th>\n",
              "      <th>split1_test_R2</th>\n",
              "      <th>split2_test_R2</th>\n",
              "      <th>split3_test_R2</th>\n",
              "      <th>split4_test_R2</th>\n",
              "      <th>split5_test_R2</th>\n",
              "      <th>split6_test_R2</th>\n",
              "      <th>split7_test_R2</th>\n",
              "      <th>split8_test_R2</th>\n",
              "      <th>split9_test_R2</th>\n",
              "      <th>mean_test_R2</th>\n",
              "      <th>std_test_R2</th>\n",
              "      <th>rank_test_R2</th>\n",
              "      <th>split0_test_RMSE</th>\n",
              "      <th>split1_test_RMSE</th>\n",
              "      <th>split2_test_RMSE</th>\n",
              "      <th>split3_test_RMSE</th>\n",
              "      <th>split4_test_RMSE</th>\n",
              "      <th>split5_test_RMSE</th>\n",
              "      <th>split6_test_RMSE</th>\n",
              "      <th>split7_test_RMSE</th>\n",
              "      <th>split8_test_RMSE</th>\n",
              "      <th>split9_test_RMSE</th>\n",
              "      <th>mean_test_RMSE</th>\n",
              "      <th>std_test_RMSE</th>\n",
              "      <th>rank_test_RMSE</th>\n",
              "    </tr>\n",
              "  </thead>\n",
              "  <tbody>\n",
              "    <tr>\n",
              "      <th>40</th>\n",
              "      <td>0.36669</td>\n",
              "      <td>0.098918</td>\n",
              "      <td>0.002439</td>\n",
              "      <td>0.000062</td>\n",
              "      <td>tanh</td>\n",
              "      <td>12</td>\n",
              "      <td>adam</td>\n",
              "      <td>{'model__activation': 'tanh', 'model__hidden_l...</td>\n",
              "      <td>0.575494</td>\n",
              "      <td>0.083618</td>\n",
              "      <td>0.15311</td>\n",
              "      <td>0.850383</td>\n",
              "      <td>-1.157299</td>\n",
              "      <td>-10.470824</td>\n",
              "      <td>-2.191588</td>\n",
              "      <td>0.620171</td>\n",
              "      <td>0.32217</td>\n",
              "      <td>0.974188</td>\n",
              "      <td>-1.024058</td>\n",
              "      <td>3.283532</td>\n",
              "      <td>3</td>\n",
              "      <td>0.111081</td>\n",
              "      <td>0.170393</td>\n",
              "      <td>0.045802</td>\n",
              "      <td>0.133929</td>\n",
              "      <td>0.522155</td>\n",
              "      <td>0.92924</td>\n",
              "      <td>0.328175</td>\n",
              "      <td>2.791655</td>\n",
              "      <td>0.229791</td>\n",
              "      <td>0.021956</td>\n",
              "      <td>0.528418</td>\n",
              "      <td>0.797472</td>\n",
              "      <td>48</td>\n",
              "    </tr>\n",
              "  </tbody>\n",
              "</table>\n",
              "</div>"
            ],
            "text/plain": [
              "    mean_fit_time  std_fit_time  ...  std_test_RMSE  rank_test_RMSE\n",
              "40        0.36669      0.098918  ...       0.797472              48\n",
              "\n",
              "[1 rows x 34 columns]"
            ]
          },
          "metadata": {
            "tags": []
          },
          "execution_count": 293
        }
      ]
    },
    {
      "cell_type": "code",
      "metadata": {
        "id": "rawxAeo4vRIy",
        "colab": {
          "base_uri": "https://localhost:8080/",
          "height": 134
        },
        "outputId": "beac697e-9f2e-4c43-88c6-80443c28aa28"
      },
      "source": [
        "maxvalue_r2 = df_results_mlp_quantil['mean_test_R2'].max()\n",
        "df_results_mlp_quantil.query('mean_test_R2 == @maxvalue_r2')"
      ],
      "execution_count": 294,
      "outputs": [
        {
          "output_type": "execute_result",
          "data": {
            "text/html": [
              "<div>\n",
              "<style scoped>\n",
              "    .dataframe tbody tr th:only-of-type {\n",
              "        vertical-align: middle;\n",
              "    }\n",
              "\n",
              "    .dataframe tbody tr th {\n",
              "        vertical-align: top;\n",
              "    }\n",
              "\n",
              "    .dataframe thead th {\n",
              "        text-align: right;\n",
              "    }\n",
              "</style>\n",
              "<table border=\"1\" class=\"dataframe\">\n",
              "  <thead>\n",
              "    <tr style=\"text-align: right;\">\n",
              "      <th></th>\n",
              "      <th>mean_fit_time</th>\n",
              "      <th>std_fit_time</th>\n",
              "      <th>mean_score_time</th>\n",
              "      <th>std_score_time</th>\n",
              "      <th>param_model__activation</th>\n",
              "      <th>param_model__hidden_layer_sizes</th>\n",
              "      <th>param_model__solver</th>\n",
              "      <th>params</th>\n",
              "      <th>split0_test_R2</th>\n",
              "      <th>split1_test_R2</th>\n",
              "      <th>split2_test_R2</th>\n",
              "      <th>split3_test_R2</th>\n",
              "      <th>split4_test_R2</th>\n",
              "      <th>split5_test_R2</th>\n",
              "      <th>split6_test_R2</th>\n",
              "      <th>split7_test_R2</th>\n",
              "      <th>split8_test_R2</th>\n",
              "      <th>split9_test_R2</th>\n",
              "      <th>mean_test_R2</th>\n",
              "      <th>std_test_R2</th>\n",
              "      <th>rank_test_R2</th>\n",
              "      <th>split0_test_RMSE</th>\n",
              "      <th>split1_test_RMSE</th>\n",
              "      <th>split2_test_RMSE</th>\n",
              "      <th>split3_test_RMSE</th>\n",
              "      <th>split4_test_RMSE</th>\n",
              "      <th>split5_test_RMSE</th>\n",
              "      <th>split6_test_RMSE</th>\n",
              "      <th>split7_test_RMSE</th>\n",
              "      <th>split8_test_RMSE</th>\n",
              "      <th>split9_test_RMSE</th>\n",
              "      <th>mean_test_RMSE</th>\n",
              "      <th>std_test_RMSE</th>\n",
              "      <th>rank_test_RMSE</th>\n",
              "    </tr>\n",
              "  </thead>\n",
              "  <tbody>\n",
              "    <tr>\n",
              "      <th>36</th>\n",
              "      <td>0.336546</td>\n",
              "      <td>0.066676</td>\n",
              "      <td>0.002436</td>\n",
              "      <td>0.000061</td>\n",
              "      <td>tanh</td>\n",
              "      <td>10</td>\n",
              "      <td>adam</td>\n",
              "      <td>{'model__activation': 'tanh', 'model__hidden_l...</td>\n",
              "      <td>0.54702</td>\n",
              "      <td>-0.119768</td>\n",
              "      <td>0.555673</td>\n",
              "      <td>0.932604</td>\n",
              "      <td>-1.960958</td>\n",
              "      <td>-8.196026</td>\n",
              "      <td>-1.490719</td>\n",
              "      <td>0.469115</td>\n",
              "      <td>0.723333</td>\n",
              "      <td>0.922513</td>\n",
              "      <td>-0.761721</td>\n",
              "      <td>2.655685</td>\n",
              "      <td>1</td>\n",
              "      <td>0.118532</td>\n",
              "      <td>0.208211</td>\n",
              "      <td>0.02403</td>\n",
              "      <td>0.06033</td>\n",
              "      <td>0.716674</td>\n",
              "      <td>0.744961</td>\n",
              "      <td>0.256108</td>\n",
              "      <td>3.901876</td>\n",
              "      <td>0.093793</td>\n",
              "      <td>0.06591</td>\n",
              "      <td>0.619042</td>\n",
              "      <td>1.122561</td>\n",
              "      <td>44</td>\n",
              "    </tr>\n",
              "  </tbody>\n",
              "</table>\n",
              "</div>"
            ],
            "text/plain": [
              "    mean_fit_time  std_fit_time  ...  std_test_RMSE  rank_test_RMSE\n",
              "36       0.336546      0.066676  ...       1.122561              44\n",
              "\n",
              "[1 rows x 34 columns]"
            ]
          },
          "metadata": {
            "tags": []
          },
          "execution_count": 294
        }
      ]
    },
    {
      "cell_type": "code",
      "metadata": {
        "id": "XfeK0oDBv6FM",
        "colab": {
          "base_uri": "https://localhost:8080/",
          "height": 315
        },
        "outputId": "073af589-f0ad-4591-ea79-1c441a59d532"
      },
      "source": [
        "minvalue_rmse = df_results_bayes_quantil['mean_test_RMSE'].min()\n",
        "df_results_bayes_quantil.query('mean_test_RMSE == @minvalue_rmse')"
      ],
      "execution_count": 295,
      "outputs": [
        {
          "output_type": "execute_result",
          "data": {
            "text/html": [
              "<div>\n",
              "<style scoped>\n",
              "    .dataframe tbody tr th:only-of-type {\n",
              "        vertical-align: middle;\n",
              "    }\n",
              "\n",
              "    .dataframe tbody tr th {\n",
              "        vertical-align: top;\n",
              "    }\n",
              "\n",
              "    .dataframe thead th {\n",
              "        text-align: right;\n",
              "    }\n",
              "</style>\n",
              "<table border=\"1\" class=\"dataframe\">\n",
              "  <thead>\n",
              "    <tr style=\"text-align: right;\">\n",
              "      <th></th>\n",
              "      <th>mean_fit_time</th>\n",
              "      <th>std_fit_time</th>\n",
              "      <th>mean_score_time</th>\n",
              "      <th>std_score_time</th>\n",
              "      <th>param_model__alpha_1</th>\n",
              "      <th>param_model__alpha_2</th>\n",
              "      <th>param_model__lambda_1</th>\n",
              "      <th>param_model__lambda_2</th>\n",
              "      <th>param_model__n_iter</th>\n",
              "      <th>params</th>\n",
              "      <th>split0_test_R2</th>\n",
              "      <th>split1_test_R2</th>\n",
              "      <th>split2_test_R2</th>\n",
              "      <th>split3_test_R2</th>\n",
              "      <th>split4_test_R2</th>\n",
              "      <th>split5_test_R2</th>\n",
              "      <th>split6_test_R2</th>\n",
              "      <th>split7_test_R2</th>\n",
              "      <th>split8_test_R2</th>\n",
              "      <th>split9_test_R2</th>\n",
              "      <th>mean_test_R2</th>\n",
              "      <th>std_test_R2</th>\n",
              "      <th>rank_test_R2</th>\n",
              "      <th>split0_test_RMSE</th>\n",
              "      <th>split1_test_RMSE</th>\n",
              "      <th>split2_test_RMSE</th>\n",
              "      <th>split3_test_RMSE</th>\n",
              "      <th>split4_test_RMSE</th>\n",
              "      <th>split5_test_RMSE</th>\n",
              "      <th>split6_test_RMSE</th>\n",
              "      <th>split7_test_RMSE</th>\n",
              "      <th>split8_test_RMSE</th>\n",
              "      <th>split9_test_RMSE</th>\n",
              "      <th>mean_test_RMSE</th>\n",
              "      <th>std_test_RMSE</th>\n",
              "      <th>rank_test_RMSE</th>\n",
              "    </tr>\n",
              "  </thead>\n",
              "  <tbody>\n",
              "    <tr>\n",
              "      <th>168</th>\n",
              "      <td>0.002861</td>\n",
              "      <td>0.000046</td>\n",
              "      <td>0.001853</td>\n",
              "      <td>0.000013</td>\n",
              "      <td>1e-07</td>\n",
              "      <td>1e-05</td>\n",
              "      <td>1e-05</td>\n",
              "      <td>1e-07</td>\n",
              "      <td>100</td>\n",
              "      <td>{'model__alpha_1': 1e-07, 'model__alpha_2': 1e...</td>\n",
              "      <td>-3.923122</td>\n",
              "      <td>-5.788248</td>\n",
              "      <td>-0.335461</td>\n",
              "      <td>0.70478</td>\n",
              "      <td>-4.627804</td>\n",
              "      <td>-2.872552</td>\n",
              "      <td>-3.265527</td>\n",
              "      <td>0.578737</td>\n",
              "      <td>-0.433284</td>\n",
              "      <td>-0.271662</td>\n",
              "      <td>-2.023415</td>\n",
              "      <td>2.224638</td>\n",
              "      <td>16</td>\n",
              "      <td>0.011946</td>\n",
              "      <td>0.05231</td>\n",
              "      <td>0.024705</td>\n",
              "      <td>0.040599</td>\n",
              "      <td>0.271989</td>\n",
              "      <td>0.211773</td>\n",
              "      <td>0.378571</td>\n",
              "      <td>0.27299</td>\n",
              "      <td>0.061053</td>\n",
              "      <td>0.07453</td>\n",
              "      <td>0.140047</td>\n",
              "      <td>0.124481</td>\n",
              "      <td>241</td>\n",
              "    </tr>\n",
              "    <tr>\n",
              "      <th>169</th>\n",
              "      <td>0.005042</td>\n",
              "      <td>0.004113</td>\n",
              "      <td>0.002655</td>\n",
              "      <td>0.002169</td>\n",
              "      <td>1e-07</td>\n",
              "      <td>1e-05</td>\n",
              "      <td>1e-05</td>\n",
              "      <td>1e-07</td>\n",
              "      <td>500</td>\n",
              "      <td>{'model__alpha_1': 1e-07, 'model__alpha_2': 1e...</td>\n",
              "      <td>-3.923122</td>\n",
              "      <td>-5.788248</td>\n",
              "      <td>-0.335461</td>\n",
              "      <td>0.70478</td>\n",
              "      <td>-4.627804</td>\n",
              "      <td>-2.872552</td>\n",
              "      <td>-3.265527</td>\n",
              "      <td>0.578737</td>\n",
              "      <td>-0.433284</td>\n",
              "      <td>-0.271662</td>\n",
              "      <td>-2.023415</td>\n",
              "      <td>2.224638</td>\n",
              "      <td>16</td>\n",
              "      <td>0.011946</td>\n",
              "      <td>0.05231</td>\n",
              "      <td>0.024705</td>\n",
              "      <td>0.040599</td>\n",
              "      <td>0.271989</td>\n",
              "      <td>0.211773</td>\n",
              "      <td>0.378571</td>\n",
              "      <td>0.27299</td>\n",
              "      <td>0.061053</td>\n",
              "      <td>0.07453</td>\n",
              "      <td>0.140047</td>\n",
              "      <td>0.124481</td>\n",
              "      <td>241</td>\n",
              "    </tr>\n",
              "    <tr>\n",
              "      <th>170</th>\n",
              "      <td>0.002855</td>\n",
              "      <td>0.000054</td>\n",
              "      <td>0.001865</td>\n",
              "      <td>0.000021</td>\n",
              "      <td>1e-07</td>\n",
              "      <td>1e-05</td>\n",
              "      <td>1e-05</td>\n",
              "      <td>1e-07</td>\n",
              "      <td>1000</td>\n",
              "      <td>{'model__alpha_1': 1e-07, 'model__alpha_2': 1e...</td>\n",
              "      <td>-3.923122</td>\n",
              "      <td>-5.788248</td>\n",
              "      <td>-0.335461</td>\n",
              "      <td>0.70478</td>\n",
              "      <td>-4.627804</td>\n",
              "      <td>-2.872552</td>\n",
              "      <td>-3.265527</td>\n",
              "      <td>0.578737</td>\n",
              "      <td>-0.433284</td>\n",
              "      <td>-0.271662</td>\n",
              "      <td>-2.023415</td>\n",
              "      <td>2.224638</td>\n",
              "      <td>16</td>\n",
              "      <td>0.011946</td>\n",
              "      <td>0.05231</td>\n",
              "      <td>0.024705</td>\n",
              "      <td>0.040599</td>\n",
              "      <td>0.271989</td>\n",
              "      <td>0.211773</td>\n",
              "      <td>0.378571</td>\n",
              "      <td>0.27299</td>\n",
              "      <td>0.061053</td>\n",
              "      <td>0.07453</td>\n",
              "      <td>0.140047</td>\n",
              "      <td>0.124481</td>\n",
              "      <td>241</td>\n",
              "    </tr>\n",
              "  </tbody>\n",
              "</table>\n",
              "</div>"
            ],
            "text/plain": [
              "     mean_fit_time  std_fit_time  ...  std_test_RMSE  rank_test_RMSE\n",
              "168       0.002861      0.000046  ...       0.124481             241\n",
              "169       0.005042      0.004113  ...       0.124481             241\n",
              "170       0.002855      0.000054  ...       0.124481             241\n",
              "\n",
              "[3 rows x 36 columns]"
            ]
          },
          "metadata": {
            "tags": []
          },
          "execution_count": 295
        }
      ]
    },
    {
      "cell_type": "code",
      "metadata": {
        "id": "ObfDmoZCv6LN",
        "colab": {
          "base_uri": "https://localhost:8080/",
          "height": 315
        },
        "outputId": "c5621bb8-5f0c-4220-bac3-c85420e91149"
      },
      "source": [
        "maxvalue_r2 = df_results_bayes_quantil['mean_test_R2'].max()\n",
        "df_results_bayes_quantil.query('mean_test_R2 == @maxvalue_r2')"
      ],
      "execution_count": 297,
      "outputs": [
        {
          "output_type": "execute_result",
          "data": {
            "text/html": [
              "<div>\n",
              "<style scoped>\n",
              "    .dataframe tbody tr th:only-of-type {\n",
              "        vertical-align: middle;\n",
              "    }\n",
              "\n",
              "    .dataframe tbody tr th {\n",
              "        vertical-align: top;\n",
              "    }\n",
              "\n",
              "    .dataframe thead th {\n",
              "        text-align: right;\n",
              "    }\n",
              "</style>\n",
              "<table border=\"1\" class=\"dataframe\">\n",
              "  <thead>\n",
              "    <tr style=\"text-align: right;\">\n",
              "      <th></th>\n",
              "      <th>mean_fit_time</th>\n",
              "      <th>std_fit_time</th>\n",
              "      <th>mean_score_time</th>\n",
              "      <th>std_score_time</th>\n",
              "      <th>param_model__alpha_1</th>\n",
              "      <th>param_model__alpha_2</th>\n",
              "      <th>param_model__lambda_1</th>\n",
              "      <th>param_model__lambda_2</th>\n",
              "      <th>param_model__n_iter</th>\n",
              "      <th>params</th>\n",
              "      <th>split0_test_R2</th>\n",
              "      <th>split1_test_R2</th>\n",
              "      <th>split2_test_R2</th>\n",
              "      <th>split3_test_R2</th>\n",
              "      <th>split4_test_R2</th>\n",
              "      <th>split5_test_R2</th>\n",
              "      <th>split6_test_R2</th>\n",
              "      <th>split7_test_R2</th>\n",
              "      <th>split8_test_R2</th>\n",
              "      <th>split9_test_R2</th>\n",
              "      <th>mean_test_R2</th>\n",
              "      <th>std_test_R2</th>\n",
              "      <th>rank_test_R2</th>\n",
              "      <th>split0_test_RMSE</th>\n",
              "      <th>split1_test_RMSE</th>\n",
              "      <th>split2_test_RMSE</th>\n",
              "      <th>split3_test_RMSE</th>\n",
              "      <th>split4_test_RMSE</th>\n",
              "      <th>split5_test_RMSE</th>\n",
              "      <th>split6_test_RMSE</th>\n",
              "      <th>split7_test_RMSE</th>\n",
              "      <th>split8_test_RMSE</th>\n",
              "      <th>split9_test_RMSE</th>\n",
              "      <th>mean_test_RMSE</th>\n",
              "      <th>std_test_RMSE</th>\n",
              "      <th>rank_test_RMSE</th>\n",
              "    </tr>\n",
              "  </thead>\n",
              "  <tbody>\n",
              "    <tr>\n",
              "      <th>162</th>\n",
              "      <td>0.002922</td>\n",
              "      <td>0.000081</td>\n",
              "      <td>0.001893</td>\n",
              "      <td>0.000122</td>\n",
              "      <td>1e-07</td>\n",
              "      <td>1e-05</td>\n",
              "      <td>1e-05</td>\n",
              "      <td>1e-05</td>\n",
              "      <td>100</td>\n",
              "      <td>{'model__alpha_1': 1e-07, 'model__alpha_2': 1e...</td>\n",
              "      <td>-3.923103</td>\n",
              "      <td>-5.788259</td>\n",
              "      <td>-0.335465</td>\n",
              "      <td>0.704781</td>\n",
              "      <td>-4.627791</td>\n",
              "      <td>-2.872558</td>\n",
              "      <td>-3.265528</td>\n",
              "      <td>0.578737</td>\n",
              "      <td>-0.433289</td>\n",
              "      <td>-0.271669</td>\n",
              "      <td>-2.023415</td>\n",
              "      <td>2.224636</td>\n",
              "      <td>1</td>\n",
              "      <td>0.011946</td>\n",
              "      <td>0.05231</td>\n",
              "      <td>0.024705</td>\n",
              "      <td>0.040599</td>\n",
              "      <td>0.271989</td>\n",
              "      <td>0.211774</td>\n",
              "      <td>0.378571</td>\n",
              "      <td>0.27299</td>\n",
              "      <td>0.061054</td>\n",
              "      <td>0.07453</td>\n",
              "      <td>0.140047</td>\n",
              "      <td>0.124481</td>\n",
              "      <td>154</td>\n",
              "    </tr>\n",
              "    <tr>\n",
              "      <th>163</th>\n",
              "      <td>0.008376</td>\n",
              "      <td>0.004433</td>\n",
              "      <td>0.002001</td>\n",
              "      <td>0.000151</td>\n",
              "      <td>1e-07</td>\n",
              "      <td>1e-05</td>\n",
              "      <td>1e-05</td>\n",
              "      <td>1e-05</td>\n",
              "      <td>500</td>\n",
              "      <td>{'model__alpha_1': 1e-07, 'model__alpha_2': 1e...</td>\n",
              "      <td>-3.923103</td>\n",
              "      <td>-5.788259</td>\n",
              "      <td>-0.335465</td>\n",
              "      <td>0.704781</td>\n",
              "      <td>-4.627791</td>\n",
              "      <td>-2.872558</td>\n",
              "      <td>-3.265528</td>\n",
              "      <td>0.578737</td>\n",
              "      <td>-0.433289</td>\n",
              "      <td>-0.271669</td>\n",
              "      <td>-2.023415</td>\n",
              "      <td>2.224636</td>\n",
              "      <td>1</td>\n",
              "      <td>0.011946</td>\n",
              "      <td>0.05231</td>\n",
              "      <td>0.024705</td>\n",
              "      <td>0.040599</td>\n",
              "      <td>0.271989</td>\n",
              "      <td>0.211774</td>\n",
              "      <td>0.378571</td>\n",
              "      <td>0.27299</td>\n",
              "      <td>0.061054</td>\n",
              "      <td>0.07453</td>\n",
              "      <td>0.140047</td>\n",
              "      <td>0.124481</td>\n",
              "      <td>154</td>\n",
              "    </tr>\n",
              "    <tr>\n",
              "      <th>164</th>\n",
              "      <td>0.002919</td>\n",
              "      <td>0.000044</td>\n",
              "      <td>0.001976</td>\n",
              "      <td>0.000047</td>\n",
              "      <td>1e-07</td>\n",
              "      <td>1e-05</td>\n",
              "      <td>1e-05</td>\n",
              "      <td>1e-05</td>\n",
              "      <td>1000</td>\n",
              "      <td>{'model__alpha_1': 1e-07, 'model__alpha_2': 1e...</td>\n",
              "      <td>-3.923103</td>\n",
              "      <td>-5.788259</td>\n",
              "      <td>-0.335465</td>\n",
              "      <td>0.704781</td>\n",
              "      <td>-4.627791</td>\n",
              "      <td>-2.872558</td>\n",
              "      <td>-3.265528</td>\n",
              "      <td>0.578737</td>\n",
              "      <td>-0.433289</td>\n",
              "      <td>-0.271669</td>\n",
              "      <td>-2.023415</td>\n",
              "      <td>2.224636</td>\n",
              "      <td>1</td>\n",
              "      <td>0.011946</td>\n",
              "      <td>0.05231</td>\n",
              "      <td>0.024705</td>\n",
              "      <td>0.040599</td>\n",
              "      <td>0.271989</td>\n",
              "      <td>0.211774</td>\n",
              "      <td>0.378571</td>\n",
              "      <td>0.27299</td>\n",
              "      <td>0.061054</td>\n",
              "      <td>0.07453</td>\n",
              "      <td>0.140047</td>\n",
              "      <td>0.124481</td>\n",
              "      <td>154</td>\n",
              "    </tr>\n",
              "  </tbody>\n",
              "</table>\n",
              "</div>"
            ],
            "text/plain": [
              "     mean_fit_time  std_fit_time  ...  std_test_RMSE  rank_test_RMSE\n",
              "162       0.002922      0.000081  ...       0.124481             154\n",
              "163       0.008376      0.004433  ...       0.124481             154\n",
              "164       0.002919      0.000044  ...       0.124481             154\n",
              "\n",
              "[3 rows x 36 columns]"
            ]
          },
          "metadata": {
            "tags": []
          },
          "execution_count": 297
        }
      ]
    }
  ]
}