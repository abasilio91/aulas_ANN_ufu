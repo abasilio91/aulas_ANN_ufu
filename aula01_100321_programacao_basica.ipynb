{
  "nbformat": 4,
  "nbformat_minor": 0,
  "metadata": {
    "colab": {
      "name": "aula01_100321_programacao-basica.ipynb",
      "provenance": [],
      "authorship_tag": "ABX9TyNbaDVSuCmukcUQPrEDvoRI",
      "include_colab_link": true
    },
    "kernelspec": {
      "name": "python3",
      "display_name": "Python 3"
    }
  },
  "cells": [
    {
      "cell_type": "markdown",
      "metadata": {
        "id": "view-in-github",
        "colab_type": "text"
      },
      "source": [
        "<a href=\"https://colab.research.google.com/github/abasilio91/aulas_ANN_ufu/blob/main/aula01_100321_programacao_basica.ipynb\" target=\"_parent\"><img src=\"https://colab.research.google.com/assets/colab-badge.svg\" alt=\"Open In Colab\"/></a>"
      ]
    },
    {
      "cell_type": "code",
      "metadata": {
        "colab": {
          "base_uri": "https://localhost:8080/"
        },
        "id": "7TmTtYJpTB0G",
        "outputId": "96d57fbd-ece1-4068-d831-ee9f658aa36d"
      },
      "source": [
        "vol = 600\r\n",
        "pi = 3.1415\r\n",
        "D = (4*vol/pi)**(1/3)\r\n",
        "print(f'Volume = {vol} m³')\r\n",
        "print('Diametro = %.2f m' %(D))\r\n",
        "# print(f'Diametro = {D} m')"
      ],
      "execution_count": null,
      "outputs": [
        {
          "output_type": "stream",
          "text": [
            "Volume = 600 m³\n",
            "Diametro = 9.14 m\n"
          ],
          "name": "stdout"
        }
      ]
    },
    {
      "cell_type": "code",
      "metadata": {
        "colab": {
          "base_uri": "https://localhost:8080/"
        },
        "id": "bTxk813SU_JL",
        "outputId": "39127cbc-ecb8-4207-c9dc-77d2b8a226b0"
      },
      "source": [
        "if D > 5:\r\n",
        "  print('reator grande')\r\n",
        "else:\r\n",
        "  print('não é tão grande')"
      ],
      "execution_count": null,
      "outputs": [
        {
          "output_type": "stream",
          "text": [
            "reator grande\n"
          ],
          "name": "stdout"
        }
      ]
    },
    {
      "cell_type": "code",
      "metadata": {
        "id": "klWpSSZtXLxe"
      },
      "source": [
        ""
      ],
      "execution_count": null,
      "outputs": []
    }
  ]
}